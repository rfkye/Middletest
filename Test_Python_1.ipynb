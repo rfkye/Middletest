{
  "nbformat": 4,
  "nbformat_minor": 5,
  "metadata": {
    "kernelspec": {
      "display_name": "Python 3",
      "language": "python",
      "name": "python3"
    },
    "language_info": {
      "codemirror_mode": {
        "name": "ipython",
        "version": 3
      },
      "file_extension": ".py",
      "mimetype": "text/x-python",
      "name": "python",
      "nbconvert_exporter": "python",
      "pygments_lexer": "ipython3",
      "version": "3.7.0"
    },
    "colab": {
      "provenance": []
    }
  },
  "cells": [
    {
      "cell_type": "markdown",
      "metadata": {
        "id": "87919d68"
      },
      "source": [
        "### Python 1 : Who is in the third place?"
      ],
      "id": "87919d68"
    },
    {
      "cell_type": "markdown",
      "metadata": {
        "id": "c061c30a"
      },
      "source": [
        "### Task"
      ],
      "id": "c061c30a"
    },
    {
      "cell_type": "markdown",
      "metadata": {
        "id": "66fcf833"
      },
      "source": [
        "Create a function whose name is ```third_place``` that does the following:\n",
        "\n",
        "Given a list of test score and a list of participants name. The desired output would be the name of the participant who gets the 3rd best score. The rule of determining the order of the best score is as follows:\n",
        "- Higher score is better\n",
        "- In case of multiple participants having the same test score, they can occupy the same ranking value. For example, if 2 participants scored 100, then both of them occupy the first place.\n",
        "\n",
        "The first input of the function is the name list, and the second input to the function is the score list."
      ],
      "id": "66fcf833"
    },
    {
      "cell_type": "markdown",
      "metadata": {
        "id": "aee24374"
      },
      "source": [
        "### Example 1:\n",
        "\n",
        "**Input**:\n",
        "- names = [Andi, Budi, Charlie, Dilan, Echa]\n",
        "- score = [80, 90, 95, 100, 85]\n",
        "\n",
        "This means, Andi gets 80, Budi gets 90, Charlie gets 95, Dilan gets 100, and Echa gets 85. The first best score is 100, and Dilan gets it. The second best score is 95, and Charlie gets it. The third best score is 90, and Budi gets it. So, our output should be Budi.\n",
        "\n",
        "**Output**: 'The third winner: Budi'.\n",
        "\n",
        "When we run ```third_place(names, score)```, the output will be 'The third winner: Budi'."
      ],
      "id": "aee24374"
    },
    {
      "cell_type": "code",
      "source": [
        "def third_place_winners(names, scores):\n",
        "    score_dict = {}\n",
        "    for name, score in zip(names, scores):\n",
        "        if score not in score_dict:\n",
        "            score_dict[score] = []\n",
        "        score_dict[score].append(name)\n",
        "    sorted_scores = sorted(score_dict.keys(), reverse=True)\n",
        "    third_place_winners = score_dict[sorted_scores[2]]\n",
        "    output = f\"Pemenang ketiga: {', '.join(third_place_winners)}\"\n",
        "\n",
        "    return output\n",
        "names = [\"berkata\", \"Buddy\", \"Charlie\", \"Dylan\", \"dll.\"]\n",
        "scores = [80, 90, 95, 100, 85]\n",
        "\n",
        "result = third_place_winners(names, scores)\n",
        "\n",
        "print(result)\n"
      ],
      "metadata": {
        "id": "4CgIewf17NT1"
      },
      "id": "4CgIewf17NT1",
      "execution_count": null,
      "outputs": []
    },
    {
      "cell_type": "markdown",
      "metadata": {
        "id": "e85af386"
      },
      "source": [
        "### Example 2:\n",
        "\n",
        "**Input**:\n",
        "- names = [Andi, Budi, Charlie, Dilan, Echa]\n",
        "- score = [80, 80, 80, 100, 90]\n",
        "\n",
        "This means, Andi, Budi, and Charlie gets 80, Dilan gets 100, and Echa gets 90. The third best score is 80, and our output should list ALL of the participants who get 80.\n",
        "\n",
        "**Output**: 'The third winner: Andi, Budi, Charlie'.\n",
        "\n",
        "When we run ```third_place(names, score)```, the output will be 'The third winner: Andi, Budi, Charlie'."
      ],
      "id": "e85af386"
    },
    {
      "cell_type": "code",
      "source": [
        "def third_place_winners(names, scores):\n",
        "    score_dict = {}\n",
        "    for name, score in zip(names, scores):\n",
        "        if score not in score_dict:\n",
        "            score_dict[score] = []\n",
        "        score_dict[score].append(name)\n",
        "    sorted_scores = sorted(score_dict.keys(), reverse=True)\n",
        "    third_place_winners = score_dict[sorted_scores[2]]\n",
        "    output = f\"Pemenang ketiga: {', '.join(third_place_winners)}\"\n",
        "\n",
        "    return output\n",
        "names = [\"berkata\", \"Buddy\", \"Charlie\", \"Dylan\", \"dll.\"]\n",
        "scores = [80, 80, 80, 100, 90]\n",
        "result = third_place_winners(names, scores)\n",
        "print(result)\n"
      ],
      "metadata": {
        "id": "0btdGlQ08MHK"
      },
      "id": "0btdGlQ08MHK",
      "execution_count": null,
      "outputs": []
    },
    {
      "cell_type": "markdown",
      "metadata": {
        "id": "bbeb3f41"
      },
      "source": [
        "### Example 3:\n",
        "\n",
        "**Input**:\n",
        "- names = [Andi, Budi, Charlie, Dilan, Echa, Fanya]\n",
        "- score = [80, 90, 90, 100, 100, 80]\n",
        "\n",
        "The first best score (first winner) is 100 - Dilan and Echa shared this position. The second best score (second winner) is 90 - Budi and Charlie shared this position. The third best score (third winner) is 80, and it is shared by Andi and Fanya. So, our output should be Andi and Fanya.\n",
        "\n",
        "**Output**: 'The third winner: Andi, Fanya'."
      ],
      "id": "bbeb3f41"
    },
    {
      "cell_type": "markdown",
      "metadata": {
        "id": "8306d027"
      },
      "source": [
        "### Space for Work"
      ],
      "id": "8306d027"
    },
    {
      "cell_type": "code",
      "source": [
        "def third_place(names, score):\n",
        "\n",
        "    score_dict={} for name, score in zip(names,scores):\n",
        "         if score not in score_dict:\n",
        "        score_dict[score]=[]score_dict[score].append(name)\n",
        "\n",
        "    sorted_scores =sorted_scores = sorted(score_dict.keys(),reverse=True)\n",
        "\n",
        "    third_place_winners = score_dict [sorted_scores[2]]\n",
        "    output=f\"Pemenang ketiga:{','.join(third_place_winners)}\"\n",
        "    return output\n",
        "\n",
        "    names=[\"Andi\",\"Boody\",\"Charlie\",\"Dylan\",\"Eccha\",\"Fanya\"]\n",
        "     result =find_third_place_winners(names,scores)\n",
        "print (result)"
      ],
      "metadata": {
        "id": "ANXQim-Y4rAs",
        "outputId": "309242ac-9584-428e-e2aa-8f79be76e484",
        "colab": {
          "base_uri": "https://localhost:8080/",
          "height": 110
        }
      },
      "id": "ANXQim-Y4rAs",
      "execution_count": 2,
      "outputs": [
        {
          "output_type": "error",
          "ename": "SyntaxError",
          "evalue": "invalid syntax (<ipython-input-2-e8948d652856>, line 3)",
          "traceback": [
            "\u001b[0;36m  File \u001b[0;32m\"<ipython-input-2-e8948d652856>\"\u001b[0;36m, line \u001b[0;32m3\u001b[0m\n\u001b[0;31m    score_dict={} for name, score in zip(names,score):\u001b[0m\n\u001b[0m                  ^\u001b[0m\n\u001b[0;31mSyntaxError\u001b[0m\u001b[0;31m:\u001b[0m invalid syntax\n"
          ]
        }
      ]
    }
  ]
}