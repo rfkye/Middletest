{
  "cells": [
    {
      "cell_type": "markdown",
      "id": "4e147004",
      "metadata": {
        "id": "4e147004"
      },
      "source": [
        "### Python 2 : Find Distance Between Two Coordinates"
      ]
    },
    {
      "cell_type": "markdown",
      "id": "983e04ac",
      "metadata": {
        "id": "983e04ac"
      },
      "source": [
        "### Task"
      ]
    },
    {
      "cell_type": "markdown",
      "id": "5ec350f9",
      "metadata": {
        "id": "5ec350f9"
      },
      "source": [
        "Create a function called ```distance``` that does the following:\n",
        "\n",
        "Given two coordinates in a list. Your task is to calculate the distance between these two coordinates. The input of your function will be two list. Each list contains 2 members, representing the x and y position."
      ]
    },
    {
      "cell_type": "markdown",
      "id": "fe7657d7",
      "metadata": {
        "id": "fe7657d7"
      },
      "source": [
        "### Example 1:\n",
        "\n",
        "**Input**:\n",
        "- point_1 = [5, 5]\n",
        "- point_2 = [1, 2]\n",
        "\n",
        "This means, the first point's coordinate is (5,5), the second point's coordinate is (1,2). To calculate the distance between these two points, we use the usual euclidean distance formula here: https://wikimedia.org/api/rest_v1/media/math/render/svg/2e0c9ce1b3455cb9e92c6bad6684dbda02f69c82.\n",
        "\n",
        "The distance is:\n",
        "\n",
        "Square root of ((5-1)^2 + (5-2)^2) = Square root of (16 + 9) = Square root of (25) = 5.\n",
        "\n",
        "**Output**: 'The distance is 5.'\n",
        "\n",
        "So, when we run the code ```distance(point_1, point_2)``` the output will be 'The distance is 5'."
      ]
    },
    {
      "cell_type": "code",
      "source": [
        "def distance(point_1, point_2):\n",
        "\n",
        "    x1, y1 = point_1\n",
        "    x2, y2 = point_2\n",
        "    distance_squared = (x1 - x2) ** 2 + (y1 - y2) ** 2\n",
        "    distance = distance_squared ** 0.5\n",
        "    return f\"Jaraknya {distance:.2f}.\"\n",
        "\n",
        "point_1 = [5, 5]\n",
        "point_2 = [1, 2]\n",
        "result = distance(point_1, point_2)\n",
        "print(result)"
      ],
      "metadata": {
        "id": "GEFTer638zat",
        "outputId": "3cbf836f-3ad6-4549-a30a-a2e0387977fe",
        "colab": {
          "base_uri": "https://localhost:8080/"
        }
      },
      "id": "GEFTer638zat",
      "execution_count": 2,
      "outputs": [
        {
          "output_type": "stream",
          "name": "stdout",
          "text": [
            "Jaraknya 5.00.\n"
          ]
        }
      ]
    },
    {
      "cell_type": "markdown",
      "id": "70c43c1f",
      "metadata": {
        "id": "70c43c1f"
      },
      "source": [
        "### Example 2:\n",
        "\n",
        "**Input**:\n",
        "- point_1 = [0,-1]\n",
        "- point_2 = [-3, 2]\n",
        "\n",
        "The first coordinate is (0,-1), the second coordinate is (-3,2). The distance between them is:\n",
        "\n",
        "Square root of ((0- -3)^2 + (-1-2)^2) = Square root of (9 + 9) = Square root of (18) = 4.242640687\n",
        "\n",
        "**Output**: 'The distance is 4.242640687'.\n",
        "\n",
        "So, when we run the code ```distance(point_1, point_2)``` the output will be 'The distance is 4.242640487'."
      ]
    },
    {
      "cell_type": "markdown",
      "id": "09f9a98e",
      "metadata": {
        "id": "09f9a98e"
      },
      "source": [
        "### FAQ:\n",
        "\n",
        "- Question: \"Desimalnya dibuletin ngga?\"\n",
        "- Answer: \"Ngga usah peduliin format output desimalnya. Mau keluar berapa angka di belakang koma gapapa kok. Yang penting value-nya benar.\""
      ]
    },
    {
      "cell_type": "markdown",
      "id": "04034fe3",
      "metadata": {
        "id": "04034fe3"
      },
      "source": [
        "### Space for Work"
      ]
    },
    {
      "cell_type": "code",
      "execution_count": 6,
      "id": "65f04bc9",
      "metadata": {
        "id": "65f04bc9",
        "outputId": "5b5dc051-a4c9-49c3-e48e-5652bacbd5ff",
        "colab": {
          "base_uri": "https://localhost:8080/",
          "height": 327
        }
      },
      "outputs": [
        {
          "output_type": "error",
          "ename": "NameError",
          "evalue": "name 'x1' is not defined",
          "traceback": [
            "\u001b[0;31m---------------------------------------------------------------------------\u001b[0m",
            "\u001b[0;31mNameError\u001b[0m                                 Traceback (most recent call last)",
            "\u001b[0;32m<ipython-input-6-88186641897b>\u001b[0m in \u001b[0;36m<cell line: 13>\u001b[0;34m()\u001b[0m\n\u001b[1;32m     11\u001b[0m \u001b[0mpoint_1\u001b[0m \u001b[0;34m=\u001b[0m \u001b[0;34m[\u001b[0m\u001b[0;36m0\u001b[0m\u001b[0;34m,\u001b[0m \u001b[0;34m-\u001b[0m\u001b[0;36m1\u001b[0m\u001b[0;34m]\u001b[0m\u001b[0;34m\u001b[0m\u001b[0;34m\u001b[0m\u001b[0m\n\u001b[1;32m     12\u001b[0m \u001b[0mpoint_2\u001b[0m \u001b[0;34m=\u001b[0m \u001b[0;34m[\u001b[0m\u001b[0;34m-\u001b[0m\u001b[0;36m3\u001b[0m\u001b[0;34m,\u001b[0m \u001b[0;36m2\u001b[0m\u001b[0;34m]\u001b[0m\u001b[0;34m\u001b[0m\u001b[0;34m\u001b[0m\u001b[0m\n\u001b[0;32m---> 13\u001b[0;31m \u001b[0mresult\u001b[0m \u001b[0;34m=\u001b[0m \u001b[0mdistance\u001b[0m\u001b[0;34m(\u001b[0m\u001b[0mpoint_1\u001b[0m\u001b[0;34m,\u001b[0m \u001b[0mpoint_2\u001b[0m\u001b[0;34m)\u001b[0m\u001b[0;34m\u001b[0m\u001b[0;34m\u001b[0m\u001b[0m\n\u001b[0m\u001b[1;32m     14\u001b[0m \u001b[0mprint\u001b[0m\u001b[0;34m(\u001b[0m\u001b[0mresult\u001b[0m\u001b[0;34m)\u001b[0m\u001b[0;34m\u001b[0m\u001b[0;34m\u001b[0m\u001b[0m\n",
            "\u001b[0;32m<ipython-input-6-88186641897b>\u001b[0m in \u001b[0;36mdistance\u001b[0;34m(point_1, point_2)\u001b[0m\n\u001b[1;32m      4\u001b[0m      \u001b[0mx1\u001b[0m\u001b[0;34m,\u001b[0m \u001b[0my1\u001b[0m \u001b[0;34m=\u001b[0m \u001b[0mpoint_1\u001b[0m\u001b[0;34m\u001b[0m\u001b[0;34m\u001b[0m\u001b[0m\n\u001b[1;32m      5\u001b[0m     \u001b[0mx2\u001b[0m\u001b[0;34m,\u001b[0m \u001b[0my2\u001b[0m \u001b[0;34m=\u001b[0m \u001b[0mpoint_2\u001b[0m\u001b[0;34m\u001b[0m\u001b[0;34m\u001b[0m\u001b[0m\n\u001b[0;32m----> 6\u001b[0;31m     \u001b[0mdistance_squared\u001b[0m \u001b[0;34m=\u001b[0m \u001b[0;34m(\u001b[0m\u001b[0mx1\u001b[0m \u001b[0;34m-\u001b[0m \u001b[0mx2\u001b[0m\u001b[0;34m)\u001b[0m \u001b[0;34m**\u001b[0m \u001b[0;36m2\u001b[0m \u001b[0;34m+\u001b[0m \u001b[0;34m(\u001b[0m\u001b[0my1\u001b[0m \u001b[0;34m-\u001b[0m \u001b[0my2\u001b[0m\u001b[0;34m)\u001b[0m \u001b[0;34m**\u001b[0m \u001b[0;36m2\u001b[0m\u001b[0;34m,\u001b[0m\u001b[0;34m\u001b[0m\u001b[0;34m\u001b[0m\u001b[0m\n\u001b[0m\u001b[1;32m      7\u001b[0m     \u001b[0mdistance\u001b[0m \u001b[0;34m=\u001b[0m \u001b[0mdistance_squared\u001b[0m \u001b[0;34m**\u001b[0m \u001b[0;36m0.5\u001b[0m\u001b[0;34m\u001b[0m\u001b[0;34m\u001b[0m\u001b[0m\n\u001b[1;32m      8\u001b[0m     \u001b[0;32mreturn\u001b[0m \u001b[0;34mf\"The distance is {distance:.9f}.\"\u001b[0m\u001b[0;34m\u001b[0m\u001b[0;34m\u001b[0m\u001b[0m\n",
            "\u001b[0;31mNameError\u001b[0m: name 'x1' is not defined"
          ]
        }
      ],
      "source": [
        "def distance(point_1, point_2):\n",
        "    def distance(point_1, point_2):\n",
        "\n",
        "     x1, y1 = point_1\n",
        "    x2, y2 = point_2\n",
        "    distance_squared = (x1 - x2) ** 2 + (y1 - y2) ** 2\n",
        "    distance = distance_squared ** 0.5\n",
        "    return f\"The distance is {distance:.9f}.\"\n",
        "\n",
        "\n",
        "point_1 = [0, -1]\n",
        "point_2 = [-3, 2]\n",
        "result = distance(point_1, point_2)\n",
        "print(result)"
      ]
    }
  ],
  "metadata": {
    "kernelspec": {
      "display_name": "Python 3",
      "language": "python",
      "name": "python3"
    },
    "language_info": {
      "codemirror_mode": {
        "name": "ipython",
        "version": 3
      },
      "file_extension": ".py",
      "mimetype": "text/x-python",
      "name": "python",
      "nbconvert_exporter": "python",
      "pygments_lexer": "ipython3",
      "version": "3.7.0"
    },
    "colab": {
      "provenance": []
    }
  },
  "nbformat": 4,
  "nbformat_minor": 5
}